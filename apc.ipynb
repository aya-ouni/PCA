{
 "cells": [
  {
   "cell_type": "code",
   "execution_count": 1,
   "metadata": {},
   "outputs": [],
   "source": [
    "# importing required libraries \n",
    "import numpy as np \n",
    "import matplotlib.pyplot as plt \n",
    "import pandas as pd "
   ]
  },
  {
   "cell_type": "markdown",
   "metadata": {},
   "source": [
    "# 1- chargement des données"
   ]
  },
  {
   "cell_type": "code",
   "execution_count": 2,
   "metadata": {},
   "outputs": [],
   "source": [
    "dataset = pd.read_csv(\"corona.csv\",sep=';') "
   ]
  },
  {
   "cell_type": "code",
   "execution_count": 4,
   "metadata": {},
   "outputs": [
    {
     "data": {
      "text/html": [
       "<div>\n",
       "<style scoped>\n",
       "    .dataframe tbody tr th:only-of-type {\n",
       "        vertical-align: middle;\n",
       "    }\n",
       "\n",
       "    .dataframe tbody tr th {\n",
       "        vertical-align: top;\n",
       "    }\n",
       "\n",
       "    .dataframe thead th {\n",
       "        text-align: right;\n",
       "    }\n",
       "</style>\n",
       "<table border=\"1\" class=\"dataframe\">\n",
       "  <thead>\n",
       "    <tr style=\"text-align: right;\">\n",
       "      <th></th>\n",
       "      <th>Date</th>\n",
       "      <th>Pays</th>\n",
       "      <th>Infections</th>\n",
       "      <th>Deces</th>\n",
       "      <th>Guerisons</th>\n",
       "      <th>TauxDeces</th>\n",
       "      <th>TauxGuerison</th>\n",
       "      <th>TauxInfection</th>\n",
       "    </tr>\n",
       "  </thead>\n",
       "  <tbody>\n",
       "    <tr>\n",
       "      <th>0</th>\n",
       "      <td>16/04/2020</td>\n",
       "      <td>Afghanistan</td>\n",
       "      <td>840</td>\n",
       "      <td>30</td>\n",
       "      <td>54</td>\n",
       "      <td>3.57</td>\n",
       "      <td>6.43</td>\n",
       "      <td>90.00</td>\n",
       "    </tr>\n",
       "    <tr>\n",
       "      <th>1</th>\n",
       "      <td>16/04/2020</td>\n",
       "      <td>Albanie</td>\n",
       "      <td>518</td>\n",
       "      <td>26</td>\n",
       "      <td>277</td>\n",
       "      <td>5.02</td>\n",
       "      <td>53.47</td>\n",
       "      <td>41.51</td>\n",
       "    </tr>\n",
       "    <tr>\n",
       "      <th>2</th>\n",
       "      <td>16/04/2020</td>\n",
       "      <td>Angola</td>\n",
       "      <td>19</td>\n",
       "      <td>2</td>\n",
       "      <td>5</td>\n",
       "      <td>10.53</td>\n",
       "      <td>26.32</td>\n",
       "      <td>63.16</td>\n",
       "    </tr>\n",
       "    <tr>\n",
       "      <th>3</th>\n",
       "      <td>16/04/2020</td>\n",
       "      <td>Argentine</td>\n",
       "      <td>2571</td>\n",
       "      <td>112</td>\n",
       "      <td>596</td>\n",
       "      <td>4.36</td>\n",
       "      <td>23.18</td>\n",
       "      <td>72.46</td>\n",
       "    </tr>\n",
       "    <tr>\n",
       "      <th>4</th>\n",
       "      <td>16/04/2020</td>\n",
       "      <td>Autriche</td>\n",
       "      <td>14412</td>\n",
       "      <td>393</td>\n",
       "      <td>8098</td>\n",
       "      <td>2.73</td>\n",
       "      <td>56.19</td>\n",
       "      <td>41.08</td>\n",
       "    </tr>\n",
       "    <tr>\n",
       "      <th>5</th>\n",
       "      <td>16/04/2020</td>\n",
       "      <td>Australie</td>\n",
       "      <td>6462</td>\n",
       "      <td>63</td>\n",
       "      <td>2355</td>\n",
       "      <td>0.97</td>\n",
       "      <td>36.44</td>\n",
       "      <td>62.58</td>\n",
       "    </tr>\n",
       "    <tr>\n",
       "      <th>6</th>\n",
       "      <td>16/04/2020</td>\n",
       "      <td>Barbade</td>\n",
       "      <td>75</td>\n",
       "      <td>5</td>\n",
       "      <td>15</td>\n",
       "      <td>6.67</td>\n",
       "      <td>20.00</td>\n",
       "      <td>73.33</td>\n",
       "    </tr>\n",
       "    <tr>\n",
       "      <th>7</th>\n",
       "      <td>16/04/2020</td>\n",
       "      <td>Bangladesh</td>\n",
       "      <td>1572</td>\n",
       "      <td>60</td>\n",
       "      <td>49</td>\n",
       "      <td>3.82</td>\n",
       "      <td>3.12</td>\n",
       "      <td>93.07</td>\n",
       "    </tr>\n",
       "    <tr>\n",
       "      <th>8</th>\n",
       "      <td>16/04/2020</td>\n",
       "      <td>Belgique</td>\n",
       "      <td>34809</td>\n",
       "      <td>4857</td>\n",
       "      <td>7562</td>\n",
       "      <td>13.95</td>\n",
       "      <td>21.72</td>\n",
       "      <td>64.32</td>\n",
       "    </tr>\n",
       "    <tr>\n",
       "      <th>9</th>\n",
       "      <td>16/04/2020</td>\n",
       "      <td>Burkina Faso</td>\n",
       "      <td>542</td>\n",
       "      <td>32</td>\n",
       "      <td>226</td>\n",
       "      <td>5.90</td>\n",
       "      <td>41.70</td>\n",
       "      <td>52.40</td>\n",
       "    </tr>\n",
       "  </tbody>\n",
       "</table>\n",
       "</div>"
      ],
      "text/plain": [
       "         Date          Pays  Infections  Deces  Guerisons  TauxDeces  \\\n",
       "0  16/04/2020   Afghanistan         840     30         54       3.57   \n",
       "1  16/04/2020       Albanie         518     26        277       5.02   \n",
       "2  16/04/2020        Angola          19      2          5      10.53   \n",
       "3  16/04/2020     Argentine        2571    112        596       4.36   \n",
       "4  16/04/2020      Autriche       14412    393       8098       2.73   \n",
       "5  16/04/2020     Australie        6462     63       2355       0.97   \n",
       "6  16/04/2020       Barbade          75      5         15       6.67   \n",
       "7  16/04/2020    Bangladesh        1572     60         49       3.82   \n",
       "8  16/04/2020      Belgique       34809   4857       7562      13.95   \n",
       "9  16/04/2020  Burkina Faso         542     32        226       5.90   \n",
       "\n",
       "   TauxGuerison  TauxInfection  \n",
       "0          6.43          90.00  \n",
       "1         53.47          41.51  \n",
       "2         26.32          63.16  \n",
       "3         23.18          72.46  \n",
       "4         56.19          41.08  \n",
       "5         36.44          62.58  \n",
       "6         20.00          73.33  \n",
       "7          3.12          93.07  \n",
       "8         21.72          64.32  \n",
       "9         41.70          52.40  "
      ]
     },
     "execution_count": 4,
     "metadata": {},
     "output_type": "execute_result"
    }
   ],
   "source": [
    "# affichage des 10 premières enregistrement du jeu de données\n",
    "dataset.head(10)"
   ]
  },
  {
   "cell_type": "code",
   "execution_count": 63,
   "metadata": {},
   "outputs": [],
   "source": [
    "# X est la matrice contenant les variable quantitatives\n",
    "# Y est la matrice contenant les variables qualitative\n",
    "X=dataset[['Infections','Deces','Guerisons','TauxDeces','TauxGuerison','TauxInfection']]\n",
    "Y = dataset[['Date','Pays']]\n",
    "name=dataset.index\n"
   ]
  },
  {
   "cell_type": "code",
   "execution_count": 6,
   "metadata": {},
   "outputs": [
    {
     "data": {
      "text/html": [
       "<div>\n",
       "<style scoped>\n",
       "    .dataframe tbody tr th:only-of-type {\n",
       "        vertical-align: middle;\n",
       "    }\n",
       "\n",
       "    .dataframe tbody tr th {\n",
       "        vertical-align: top;\n",
       "    }\n",
       "\n",
       "    .dataframe thead th {\n",
       "        text-align: right;\n",
       "    }\n",
       "</style>\n",
       "<table border=\"1\" class=\"dataframe\">\n",
       "  <thead>\n",
       "    <tr style=\"text-align: right;\">\n",
       "      <th></th>\n",
       "      <th>Infections</th>\n",
       "      <th>Deces</th>\n",
       "      <th>Guerisons</th>\n",
       "      <th>TauxDeces</th>\n",
       "      <th>TauxGuerison</th>\n",
       "      <th>TauxInfection</th>\n",
       "    </tr>\n",
       "  </thead>\n",
       "  <tbody>\n",
       "    <tr>\n",
       "      <th>0</th>\n",
       "      <td>840</td>\n",
       "      <td>30</td>\n",
       "      <td>54</td>\n",
       "      <td>3.57</td>\n",
       "      <td>6.43</td>\n",
       "      <td>90.00</td>\n",
       "    </tr>\n",
       "    <tr>\n",
       "      <th>1</th>\n",
       "      <td>518</td>\n",
       "      <td>26</td>\n",
       "      <td>277</td>\n",
       "      <td>5.02</td>\n",
       "      <td>53.47</td>\n",
       "      <td>41.51</td>\n",
       "    </tr>\n",
       "    <tr>\n",
       "      <th>2</th>\n",
       "      <td>19</td>\n",
       "      <td>2</td>\n",
       "      <td>5</td>\n",
       "      <td>10.53</td>\n",
       "      <td>26.32</td>\n",
       "      <td>63.16</td>\n",
       "    </tr>\n",
       "    <tr>\n",
       "      <th>3</th>\n",
       "      <td>2571</td>\n",
       "      <td>112</td>\n",
       "      <td>596</td>\n",
       "      <td>4.36</td>\n",
       "      <td>23.18</td>\n",
       "      <td>72.46</td>\n",
       "    </tr>\n",
       "    <tr>\n",
       "      <th>4</th>\n",
       "      <td>14412</td>\n",
       "      <td>393</td>\n",
       "      <td>8098</td>\n",
       "      <td>2.73</td>\n",
       "      <td>56.19</td>\n",
       "      <td>41.08</td>\n",
       "    </tr>\n",
       "    <tr>\n",
       "      <th>5</th>\n",
       "      <td>6462</td>\n",
       "      <td>63</td>\n",
       "      <td>2355</td>\n",
       "      <td>0.97</td>\n",
       "      <td>36.44</td>\n",
       "      <td>62.58</td>\n",
       "    </tr>\n",
       "    <tr>\n",
       "      <th>6</th>\n",
       "      <td>75</td>\n",
       "      <td>5</td>\n",
       "      <td>15</td>\n",
       "      <td>6.67</td>\n",
       "      <td>20.00</td>\n",
       "      <td>73.33</td>\n",
       "    </tr>\n",
       "    <tr>\n",
       "      <th>7</th>\n",
       "      <td>1572</td>\n",
       "      <td>60</td>\n",
       "      <td>49</td>\n",
       "      <td>3.82</td>\n",
       "      <td>3.12</td>\n",
       "      <td>93.07</td>\n",
       "    </tr>\n",
       "    <tr>\n",
       "      <th>8</th>\n",
       "      <td>34809</td>\n",
       "      <td>4857</td>\n",
       "      <td>7562</td>\n",
       "      <td>13.95</td>\n",
       "      <td>21.72</td>\n",
       "      <td>64.32</td>\n",
       "    </tr>\n",
       "    <tr>\n",
       "      <th>9</th>\n",
       "      <td>542</td>\n",
       "      <td>32</td>\n",
       "      <td>226</td>\n",
       "      <td>5.90</td>\n",
       "      <td>41.70</td>\n",
       "      <td>52.40</td>\n",
       "    </tr>\n",
       "  </tbody>\n",
       "</table>\n",
       "</div>"
      ],
      "text/plain": [
       "   Infections  Deces  Guerisons  TauxDeces  TauxGuerison  TauxInfection\n",
       "0         840     30         54       3.57          6.43          90.00\n",
       "1         518     26        277       5.02         53.47          41.51\n",
       "2          19      2          5      10.53         26.32          63.16\n",
       "3        2571    112        596       4.36         23.18          72.46\n",
       "4       14412    393       8098       2.73         56.19          41.08\n",
       "5        6462     63       2355       0.97         36.44          62.58\n",
       "6          75      5         15       6.67         20.00          73.33\n",
       "7        1572     60         49       3.82          3.12          93.07\n",
       "8       34809   4857       7562      13.95         21.72          64.32\n",
       "9         542     32        226       5.90         41.70          52.40"
      ]
     },
     "execution_count": 6,
     "metadata": {},
     "output_type": "execute_result"
    }
   ],
   "source": [
    "# affichage des 10 premières ligne de X \n",
    "X.head(10)"
   ]
  },
  {
   "cell_type": "code",
   "execution_count": 7,
   "metadata": {},
   "outputs": [
    {
     "data": {
      "text/html": [
       "<div>\n",
       "<style scoped>\n",
       "    .dataframe tbody tr th:only-of-type {\n",
       "        vertical-align: middle;\n",
       "    }\n",
       "\n",
       "    .dataframe tbody tr th {\n",
       "        vertical-align: top;\n",
       "    }\n",
       "\n",
       "    .dataframe thead th {\n",
       "        text-align: right;\n",
       "    }\n",
       "</style>\n",
       "<table border=\"1\" class=\"dataframe\">\n",
       "  <thead>\n",
       "    <tr style=\"text-align: right;\">\n",
       "      <th></th>\n",
       "      <th>Date</th>\n",
       "      <th>Pays</th>\n",
       "    </tr>\n",
       "  </thead>\n",
       "  <tbody>\n",
       "    <tr>\n",
       "      <th>0</th>\n",
       "      <td>16/04/2020</td>\n",
       "      <td>Afghanistan</td>\n",
       "    </tr>\n",
       "    <tr>\n",
       "      <th>1</th>\n",
       "      <td>16/04/2020</td>\n",
       "      <td>Albanie</td>\n",
       "    </tr>\n",
       "    <tr>\n",
       "      <th>2</th>\n",
       "      <td>16/04/2020</td>\n",
       "      <td>Angola</td>\n",
       "    </tr>\n",
       "    <tr>\n",
       "      <th>3</th>\n",
       "      <td>16/04/2020</td>\n",
       "      <td>Argentine</td>\n",
       "    </tr>\n",
       "    <tr>\n",
       "      <th>4</th>\n",
       "      <td>16/04/2020</td>\n",
       "      <td>Autriche</td>\n",
       "    </tr>\n",
       "    <tr>\n",
       "      <th>5</th>\n",
       "      <td>16/04/2020</td>\n",
       "      <td>Australie</td>\n",
       "    </tr>\n",
       "    <tr>\n",
       "      <th>6</th>\n",
       "      <td>16/04/2020</td>\n",
       "      <td>Barbade</td>\n",
       "    </tr>\n",
       "    <tr>\n",
       "      <th>7</th>\n",
       "      <td>16/04/2020</td>\n",
       "      <td>Bangladesh</td>\n",
       "    </tr>\n",
       "    <tr>\n",
       "      <th>8</th>\n",
       "      <td>16/04/2020</td>\n",
       "      <td>Belgique</td>\n",
       "    </tr>\n",
       "    <tr>\n",
       "      <th>9</th>\n",
       "      <td>16/04/2020</td>\n",
       "      <td>Burkina Faso</td>\n",
       "    </tr>\n",
       "  </tbody>\n",
       "</table>\n",
       "</div>"
      ],
      "text/plain": [
       "         Date          Pays\n",
       "0  16/04/2020   Afghanistan\n",
       "1  16/04/2020       Albanie\n",
       "2  16/04/2020        Angola\n",
       "3  16/04/2020     Argentine\n",
       "4  16/04/2020      Autriche\n",
       "5  16/04/2020     Australie\n",
       "6  16/04/2020       Barbade\n",
       "7  16/04/2020    Bangladesh\n",
       "8  16/04/2020      Belgique\n",
       "9  16/04/2020  Burkina Faso"
      ]
     },
     "execution_count": 7,
     "metadata": {},
     "output_type": "execute_result"
    }
   ],
   "source": [
    "# affichage des 10 premières ligne de Y\n",
    "Y.head(10)"
   ]
  },
  {
   "cell_type": "markdown",
   "metadata": {},
   "source": [
    "# 2- centrer et réduire la matrice des données X"
   ]
  },
  {
   "cell_type": "code",
   "execution_count": 11,
   "metadata": {},
   "outputs": [
    {
     "name": "stderr",
     "output_type": "stream",
     "text": [
      "C:\\ProgramData\\Anaconda3\\lib\\site-packages\\sklearn\\preprocessing\\data.py:645: DataConversionWarning: Data with input dtype int64, float64 were all converted to float64 by StandardScaler.\n",
      "  return self.partial_fit(X, y)\n",
      "C:\\ProgramData\\Anaconda3\\lib\\site-packages\\sklearn\\base.py:464: DataConversionWarning: Data with input dtype int64, float64 were all converted to float64 by StandardScaler.\n",
      "  return self.fit(X, **fit_params).transform(X)\n"
     ]
    }
   ],
   "source": [
    "# importer le module standard_scaler de la bibliothèque sklearn qui va permettre de réduire et centrer la matrice X\n",
    "from sklearn.preprocessing import StandardScaler\n",
    "x_centre_reduit = StandardScaler().fit_transform(X)"
   ]
  },
  {
   "cell_type": "code",
   "execution_count": 14,
   "metadata": {},
   "outputs": [
    {
     "data": {
      "text/plain": [
       "array([[-0.2573869 , -0.2634156 , -0.30006373, -0.16672745, -0.82439513,\n",
       "         0.86668303],\n",
       "       [-0.2631636 , -0.26438038, -0.28501103,  0.16969727,  1.32743   ,\n",
       "        -1.37583497],\n",
       "       [-0.27211568, -0.27016905, -0.30337128,  1.44811122,  0.0854646 ,\n",
       "        -0.37458699],\n",
       "       ...,\n",
       "       [-0.26065199, -0.26558635, -0.29797121, -0.25489393, -0.52751279,\n",
       "         0.58411374],\n",
       "       [-0.27159542, -0.27041024, -0.30310127, -0.51243286, -0.26082188,\n",
       "         0.3658278 ],\n",
       "       [-0.23614588, -0.24001975, -0.28825108,  0.45971858, -0.60116157,\n",
       "         0.51566815]])"
      ]
     },
     "execution_count": 14,
     "metadata": {},
     "output_type": "execute_result"
    }
   ],
   "source": [
    " #affichage de la matrice centrée réduite \n",
    "x_centre_reduit"
   ]
  },
  {
   "cell_type": "markdown",
   "metadata": {},
   "source": [
    "# 3- Matrice de corrélation"
   ]
  },
  {
   "cell_type": "code",
   "execution_count": 16,
   "metadata": {},
   "outputs": [
    {
     "name": "stdout",
     "output_type": "stream",
     "text": [
      "               Infections     Deces  Guerisons  TauxDeces  TauxGuerison  \\\n",
      "Infections       1.000000  0.887413   0.678964   0.195899      0.064463   \n",
      "Deces            0.887413  1.000000   0.639360   0.338549      0.023767   \n",
      "Guerisons        0.678964  0.639360   1.000000   0.161213      0.358060   \n",
      "TauxDeces        0.195899  0.338549   0.161213   1.000000     -0.153455   \n",
      "TauxGuerison     0.064463  0.023767   0.358060  -0.153455      1.000000   \n",
      "TauxInfection   -0.104259 -0.091545  -0.394168  -0.044167     -0.980414   \n",
      "\n",
      "               TauxInfection  \n",
      "Infections         -0.104259  \n",
      "Deces              -0.091545  \n",
      "Guerisons          -0.394168  \n",
      "TauxDeces          -0.044167  \n",
      "TauxGuerison       -0.980414  \n",
      "TauxInfection       1.000000  \n"
     ]
    }
   ],
   "source": [
    "#affichage de la matrice de corrélation déduite à partir de la matrice initiale de données X\n",
    "print(X.corr())"
   ]
  },
  {
   "cell_type": "markdown",
   "metadata": {},
   "source": [
    "# 4- Calcul des valeurs et vecteurs propres "
   ]
  },
  {
   "cell_type": "code",
   "execution_count": 17,
   "metadata": {},
   "outputs": [],
   "source": [
    "eig_vals, eig_vecs = np.linalg.eig(X.corr())"
   ]
  },
  {
   "cell_type": "code",
   "execution_count": 18,
   "metadata": {},
   "outputs": [
    {
     "name": "stdout",
     "output_type": "stream",
     "text": [
      "Eigenvectors \n",
      "[[-4.96066208e-01 -3.05451707e-01  2.57026572e-01 -3.08712443e-01\n",
      "  -7.06577342e-01  6.13577841e-06]\n",
      " [-4.91591480e-01 -3.44719967e-01  8.53764036e-02 -3.87291535e-01\n",
      "   6.94422132e-01  1.61059101e-05]\n",
      " [-5.20645463e-01 -2.70675218e-02  1.51034499e-01  8.37245175e-01\n",
      "   6.63682724e-02  1.68830120e-05]\n",
      " [-1.78193993e-01 -2.74991986e-01 -9.25416093e-01  5.65383935e-02\n",
      "  -1.17350196e-01  1.38793751e-01]\n",
      " [-3.03575342e-01  6.19972731e-01 -3.08540582e-02 -1.63611856e-01\n",
      "   5.38477883e-03  7.04078132e-01]\n",
      " [ 3.42451965e-01 -5.71968503e-01  2.15615105e-01  1.54133000e-01\n",
      "   1.79318194e-02  6.96426793e-01]]\n"
     ]
    }
   ],
   "source": [
    "# affichage des vecteurs propres \n",
    "print('Eigenvectors \\n%s' %eig_vecs)"
   ]
  },
  {
   "cell_type": "code",
   "execution_count": 19,
   "metadata": {},
   "outputs": [
    {
     "name": "stdout",
     "output_type": "stream",
     "text": [
      "\n",
      "Eigenvalues \n",
      "[2.77380653e+00 1.91195853e+00 8.93220330e-01 3.22246355e-01\n",
      " 9.87682284e-02 2.35267181e-08]\n"
     ]
    }
   ],
   "source": [
    "# affichage des vecteurs propres \n",
    "print('\\nEigenvalues \\n%s' %eig_vals)"
   ]
  },
  {
   "cell_type": "code",
   "execution_count": 21,
   "metadata": {},
   "outputs": [
    {
     "data": {
      "text/plain": [
       "0.7809608437545636"
      ]
     },
     "execution_count": 21,
     "metadata": {},
     "output_type": "execute_result"
    }
   ],
   "source": [
    "# on réduit les dimmensions à 2  car la portionde  l'inertie exprimée par l'axe 1 et 2 est égale à 78%\n",
    "(eig_vals[0] + eig_vals[1]) / sum(eig_vals)"
   ]
  },
  {
   "cell_type": "markdown",
   "metadata": {},
   "source": [
    "# 5-Projection des données sur les deux nouveaux composantes (les deux vecteurs propres)"
   ]
  },
  {
   "cell_type": "code",
   "execution_count": 22,
   "metadata": {},
   "outputs": [],
   "source": [
    "#import des bibliothèques nécessaires\n",
    "from sklearn import decomposition\n",
    "from sklearn import preprocessing"
   ]
  },
  {
   "cell_type": "code",
   "execution_count": 23,
   "metadata": {},
   "outputs": [],
   "source": [
    "#spécifier le nombre de composants qui est égale à 2 dans ce cas\n",
    "nbr_composants=2"
   ]
  },
  {
   "cell_type": "code",
   "execution_count": 27,
   "metadata": {},
   "outputs": [],
   "source": [
    "#appliquer la réduction à 2 dimmension \n",
    "pca = decomposition.PCA(n_components=nbr_composants)"
   ]
  },
  {
   "cell_type": "code",
   "execution_count": 29,
   "metadata": {},
   "outputs": [],
   "source": [
    "# Calcul des coordonnées de chaque individu sur les 2 composantes \n",
    "proj=pca.fit_transform(x_centre_reduit)   # x_centre_reduit est la matrice centrée réduite obtenue à partir \n",
    "                                           #de la matrice des variables quantitatives calcuké précédemment"
   ]
  },
  {
   "cell_type": "code",
   "execution_count": 33,
   "metadata": {},
   "outputs": [
    {
     "name": "stdout",
     "output_type": "stream",
     "text": [
      "     composant1  composant2\n",
      "0     -0.990174    0.783423\n",
      "1      0.495468   -1.742475\n",
      "2     -0.013481   -0.053481\n",
      "3     -0.402943   -0.087881\n",
      "4      0.887398   -1.856158\n",
      "5     -0.111849   -0.921113\n",
      "6     -0.420695    0.149067\n",
      "7     -1.064529    0.980950\n",
      "8      1.196512    0.933983\n",
      "9      0.195065   -1.063929\n",
      "10    -0.649153    0.325612\n",
      "11    -0.103691   -1.247414\n",
      "12    -0.254578    1.742457\n",
      "13    -0.920034    1.072195\n",
      "14    -0.197233    0.939181\n",
      "15    -0.209282   -1.197131\n",
      "16    -1.016717    1.244623\n",
      "17    -0.762686    1.410561\n",
      "18     0.437315   -0.358325\n",
      "19    -0.872617    0.640393\n",
      "20     1.534793   -1.752170\n",
      "21    -0.089981   -0.849411\n",
      "22    -0.690210    0.009745\n",
      "23     5.512799   -3.167405\n",
      "24    -0.665227    0.383615\n",
      "25    -1.035323    0.436626\n",
      "26    -0.662901    0.095477\n",
      "27    -1.242314    0.964728\n",
      "28    -1.022040    0.564868\n",
      "29     4.817685   -0.835925\n",
      "..          ...         ...\n",
      "170    4.326896    2.575914\n",
      "171   -1.177300    0.768483\n",
      "172    1.773999    3.082587\n",
      "173   -1.398245    0.995404\n",
      "174    0.366840   -2.254474\n",
      "175   -1.239751    0.900222\n",
      "176    0.966265   -3.355308\n",
      "177   -0.102340    0.192505\n",
      "178    0.295268   -1.329522\n",
      "179   -0.922812    0.522047\n",
      "180   -0.340707    0.606388\n",
      "181   -0.008796   -1.457303\n",
      "182   -0.903599    1.158768\n",
      "183   -0.446244   -0.409542\n",
      "184   -0.979081    1.269210\n",
      "185   -0.514763    0.666065\n",
      "186   -0.501147    0.928261\n",
      "187   -1.010803    1.199926\n",
      "188   -0.656840    0.585106\n",
      "189    0.677078   -1.926123\n",
      "190    3.903165   -1.447294\n",
      "191    0.535869   -2.393750\n",
      "192    5.411646    2.995308\n",
      "193    0.567896   -2.353067\n",
      "194   -0.863071    0.543470\n",
      "195   -0.811098    0.087452\n",
      "196    0.945096   -3.317004\n",
      "197   -0.820589    0.411810\n",
      "198   -0.721239    0.045650\n",
      "199   -0.662383    0.631396\n",
      "\n",
      "[200 rows x 2 columns]\n"
     ]
    }
   ],
   "source": [
    "# visualisation de la matrice de projection \n",
    "p=pd.DataFrame(data=proj,columns=['composant1','composant2'])\n",
    "print(p)"
   ]
  },
  {
   "cell_type": "markdown",
   "metadata": {},
   "source": [
    "# 6-Visualisation du cercle de corrélation et projection  des individus\n",
    "\n"
   ]
  },
  {
   "cell_type": "code",
   "execution_count": 75,
   "metadata": {},
   "outputs": [
    {
     "data": {
      "image/png": "[encoded data removed]",
      "text/plain": [
       "<Figure size 504x432 with 1 Axes>"
      ]
     },
     "metadata": {
      "needs_background": "light"
     },
     "output_type": "display_data"
    }
   ],
   "source": [
    "#import d'un fichier python qui contient les fonctions pour visualiser le cercle de corrélation\n",
    "from fonctions import *\n",
    "# Cercle des corrélations\n",
    "pcs = pca.components_\n",
    "display_circles(pcs, nbr_composants, pca, [(0,1),(2,3),(4,5)], labels = np.array(X.columns))"
   ]
  },
  {
   "cell_type": "code",
   "execution_count": 76,
   "metadata": {},
   "outputs": [
    {
     "data": {
      "image/png": "[encoded data removed]",
      "text/plain": [
       "<Figure size 504x432 with 1 Axes>"
      ]
     },
     "metadata": {
      "needs_background": "light"
     },
     "output_type": "display_data"
    }
   ],
   "source": [
    "names = dataset.Pays\n",
    "X_projected = pca.transform(x_centre_reduit)\n",
    "display_factorial_planes(X_projected, nbr_composants, pca, [(0,1),(2,3),(4,5)] ,labels = np.array(names))\n"
   ]
  },
  {
   "cell_type": "code",
   "execution_count": 53,
   "metadata": {},
   "outputs": [
    {
     "data": {
      "image/png": "[encoded data removed]",
      "text/plain": [
       "<Figure size 432x288 with 1 Axes>"
      ]
     },
     "metadata": {
      "needs_background": "light"
     },
     "output_type": "display_data"
    }
   ],
   "source": [
    "display_scree_plot(pca)"
   ]
  },
  {
   "cell_type": "code",
   "execution_count": null,
   "metadata": {},
   "outputs": [],
   "source": []
  },
  {
   "cell_type": "code",
   "execution_count": null,
   "metadata": {},
   "outputs": [],
   "source": []
  }
 ],
 "metadata": {
  "kernelspec": {
   "display_name": "Python 3",
   "language": "python",
   "name": "python3"
  },
  "language_info": {
   "codemirror_mode": {
    "name": "ipython",
    "version": 3
   },
   "file_extension": ".py",
   "mimetype": "text/x-python",
   "name": "python",
   "nbconvert_exporter": "python",
   "pygments_lexer": "ipython3",
   "version": "3.7.3"
  }
 },
 "nbformat": 4,
 "nbformat_minor": 2
}
